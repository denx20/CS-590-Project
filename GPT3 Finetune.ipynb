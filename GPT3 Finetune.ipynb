{
 "cells": [
  {
   "cell_type": "code",
   "execution_count": null,
   "id": "c9383d1b",
   "metadata": {},
   "outputs": [],
   "source": [
    "import pandas as pd\n",
    "import openai\n",
    "from mcts_main import grid_search\n",
    "from sequence_generator import make_possible_terms\n",
    "import numpy as np\n",
    "import math "
   ]
  },
  {
   "cell_type": "code",
   "execution_count": null,
   "id": "7efcb1c0",
   "metadata": {},
   "outputs": [],
   "source": [
    "print(len(make_possible_terms(True)))"
   ]
  },
  {
   "cell_type": "code",
   "execution_count": null,
   "id": "7feee864",
   "metadata": {},
   "outputs": [],
   "source": [
    "nterms = 3\n",
    "train_or_test = 'test'"
   ]
  },
  {
   "cell_type": "code",
   "execution_count": null,
   "id": "cb785b6e",
   "metadata": {},
   "outputs": [],
   "source": [
    "df = pd.read_csv(f'data/{train_or_test}/{nterms}/{nterms}_int.csv', names=['prompt', 'completion'], delimiter='],', engine='python')"
   ]
  },
  {
   "cell_type": "code",
   "execution_count": null,
   "id": "0c44e57a",
   "metadata": {},
   "outputs": [],
   "source": [
    "df['prompt'] = df['prompt'].str.slice(1)"
   ]
  },
  {
   "cell_type": "code",
   "execution_count": null,
   "id": "ee640ab8",
   "metadata": {},
   "outputs": [],
   "source": [
    "df['completion'] = df['completion'].str.slice(1, -1) + ' <EOS>'"
   ]
  },
  {
   "cell_type": "code",
   "execution_count": null,
   "id": "d5019b61",
   "metadata": {},
   "outputs": [],
   "source": [
    "df.to_json(f\"data/{train_or_test}/{nterms}/{nterms}_int.jsonl\", orient='records', lines=True)"
   ]
  },
  {
   "cell_type": "code",
   "execution_count": null,
   "id": "47184863",
   "metadata": {},
   "outputs": [],
   "source": [
    "df_valid = df.sample(160)\n",
    "valid_ids = set(df_valid.index)"
   ]
  },
  {
   "cell_type": "code",
   "execution_count": null,
   "id": "bc794903",
   "metadata": {},
   "outputs": [],
   "source": [
    "train_ids = [i for i in range(800) if i not in valid_ids]\n",
    "df_train = df.iloc[train_ids]"
   ]
  },
  {
   "cell_type": "code",
   "execution_count": null,
   "id": "1258b452",
   "metadata": {},
   "outputs": [],
   "source": [
    "df_valid.to_json(f\"data/train/{nterms}/{nterms}_int_v.jsonl\", orient='records', lines=True)"
   ]
  },
  {
   "cell_type": "code",
   "execution_count": null,
   "id": "4ecff268",
   "metadata": {},
   "outputs": [],
   "source": [
    "!openai tools fine_tunes.prepare_data -f data/train/2/2.jsonl -q"
   ]
  },
  {
   "cell_type": "code",
   "execution_count": null,
   "id": "62dac6ec",
   "metadata": {},
   "outputs": [],
   "source": [
    "!openai api fine_tunes.create -t \"/data/train/2/2_int_prepared_train.jsonl\" -v \"data/train/2/2_int_prepared_valid.jsonl\" -m ada"
   ]
  },
  {
   "cell_type": "code",
   "execution_count": null,
   "id": "201fbb66",
   "metadata": {},
   "outputs": [],
   "source": [
    "#################### no interaction terms ####################\n",
    "# nterms=2, ada, 4 epochs, ada:ft-personal-2022-11-30-08-42-32\n",
    "# nterms=2, babbage, 4 epochs, babbage:ft-personal-2022-11-30-08-32-24\n",
    "# nterms=2, curie, 4 epochs, curie:ft-personal-2022-11-30-08-22-34\n",
    "# nterms=2, davinci, 4 epochs, davinci:ft-personal-2022-11-29-06-40-46\n",
    "\n",
    "# nterms=3, ada, 4 epochs, ada:ft-personal-2022-11-30-09-12-47\n",
    "# nterms=3, babbage, 4 epochs, babbage:ft-personal-2022-11-30-09-02-00\n",
    "# nterms=3, curie, 4 epochs, curie:ft-personal-2022-11-30-09-15-04\n",
    "# nterms=3, davinci, 4 epochs, davinci:ft-personal-2022-11-30-08-52-38\n",
    "\n",
    "#################### with interaction terms ##################\n",
    "# nterms=2, ada, 4 epochs, ada:ft-personal-2022-12-19-07-44-09\n",
    "# nterms=2, babbage, 4 epochs, babbage:ft-personal-2022-12-19-07-53-32\n",
    "# nterms=2, curie, 4 epochs, curie:ft-personal-2022-12-19-08-00-02\n",
    "# nterms=2, davinci, 4 epochs, davinci:ft-personal-2022-12-19-08-09-25\n",
    "\n",
    "# nterms=3, ada, 4 epochs, ada:ft-personal-2022-12-19-08-28-41\n",
    "# nterms=3, babbage, 4 epochs, babbage:ft-personal-2022-12-19-08-30-35\n",
    "# nterms=3, curie, 4 epochs, curie:ft-personal-2022-12-19-08-40-23\n",
    "# nterms=3, davinci, 4 epochs, davinci:ft-personal-2022-12-19-08-46-42"
   ]
  },
  {
   "cell_type": "code",
   "execution_count": null,
   "id": "4125f00e",
   "metadata": {},
   "outputs": [],
   "source": [
    "def evaluate_gpt3(ft_model=None, nterms=2, interaction=False):\n",
    "    if not ft_model:\n",
    "        raise ValueError('Must provide a fine-tuned model')\n",
    "    test_dir = 'data/test/'\n",
    "    f_int = '_int' if interaction else ''\n",
    "    test_file = test_dir + f'{nterms}/{nterms}{f_int}_prepared.jsonl'\n",
    "    test_data = pd.read_json(test_file, orient='records', lines=True)['prompt'].tolist()\n",
    "    terms = np.array(make_possible_terms(use_interaction=interaction))\n",
    "    n = len(test_data)\n",
    "    rmses = []\n",
    "    correct_cnt = 0\n",
    "    for i in range(0, n, 20):\n",
    "        curr_test = test_data[i:] if n-i < 20 else test_data[i:i+20]\n",
    "        preds = openai.Completion.create(model=ft_model, prompt=curr_test, stop=[' <EOS>'], max_tokens=50, temperature=0)['choices']\n",
    "        for j, obj in enumerate(preds):\n",
    "            pred = obj['text']\n",
    "            pred_mask = np.array(pred.strip().split(', '))=='True'\n",
    "            pred_terms = terms[pred_mask]\n",
    "            seq_list = np.array(test_data[i+j][:-3].split(', ')).astype(int)\n",
    "            rmse = grid_search(seq_list, pred_terms)\n",
    "            rmses.append(rmse)\n",
    "            if rmse == 0:\n",
    "                correct_cnt += 1\n",
    "    print('Mean RMSE on test data:', np.mean(rmses))\n",
    "    print('Percentage of examples solved perfectly:', f'{100*correct_cnt/n}%')"
   ]
  },
  {
   "cell_type": "code",
   "execution_count": null,
   "id": "5316e1da",
   "metadata": {},
   "outputs": [],
   "source": [
    "model = 'davinci:ft-personal-2022-12-19-08-46-42'"
   ]
  },
  {
   "cell_type": "code",
   "execution_count": null,
   "id": "c86c7087",
   "metadata": {},
   "outputs": [],
   "source": [
    "evaluate_gpt3(model, 3, interaction=True)"
   ]
  }
 ],
 "metadata": {
  "kernelspec": {
   "display_name": "590",
   "language": "python",
   "name": "python3"
  },
  "language_info": {
   "codemirror_mode": {
    "name": "ipython",
    "version": 3
   },
   "file_extension": ".py",
   "mimetype": "text/x-python",
   "name": "python",
   "nbconvert_exporter": "python",
   "pygments_lexer": "ipython3",
   "version": "3.10.8"
  },
  "vscode": {
   "interpreter": {
    "hash": "3e9dcfe8be8fa208d3615c46222b97c6b0392e684d2d323330e230a127eb7117"
   }
  }
 },
 "nbformat": 4,
 "nbformat_minor": 5
}
